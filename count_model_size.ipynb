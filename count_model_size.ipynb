{
 "cells": [
  {
   "cell_type": "code",
   "metadata": {
    "ExecuteTime": {
     "end_time": "2024-06-14T17:16:03.729231Z",
     "start_time": "2024-06-14T17:15:59.672848Z"
    }
   },
   "source": [
    "from models import select_model\n",
    "from utils import count_parameters\n",
    "\n",
    "models = [\"VGG11\", \"VGG13\", \"VGG16\", \"VGG19\", \"ResNet18\", \"ResNet34\", \"ResNet50\", \"ResNet101\", \"ResNet152\",\"VisionTransformer\"]\n",
    "\n",
    "for model_name in models:\n",
    "    model = select_model(model_name,\"dogs_vs_cats\")\n",
    "    print(f\"{model_name}: {count_parameters(model, True):.2f}MB\")"
   ],
   "outputs": [
    {
     "name": "stdout",
     "output_type": "stream",
     "text": [
      "VGG11: 35.39MB\n",
      "VGG13: 36.09MB\n",
      "VGG16: 56.36MB\n",
      "VGG19: 76.62MB\n",
      "ResNet18: 42.80MB\n",
      "ResNet34: 81.36MB\n",
      "ResNet50: 138.65MB\n",
      "ResNet101: 211.10MB\n",
      "ResNet152: 270.77MB\n",
      "VisionTransformer: 492.47MB\n"
     ]
    }
   ],
   "execution_count": 1
  }
 ],
 "metadata": {
  "kernelspec": {
   "display_name": "base",
   "language": "python",
   "name": "python3"
  },
  "language_info": {
   "codemirror_mode": {
    "name": "ipython",
    "version": 3
   },
   "file_extension": ".py",
   "mimetype": "text/x-python",
   "name": "python",
   "nbconvert_exporter": "python",
   "pygments_lexer": "ipython3",
   "version": "3.10.8"
  }
 },
 "nbformat": 4,
 "nbformat_minor": 2
}
