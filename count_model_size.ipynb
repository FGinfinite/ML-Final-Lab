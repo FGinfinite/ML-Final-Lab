{
 "cells": [
  {
   "cell_type": "code",
   "execution_count": 1,
   "metadata": {},
   "outputs": [
    {
     "name": "stdout",
     "output_type": "stream",
     "text": [
      "VGG11: 35.21MB\n",
      "VGG13: 35.92MB\n",
      "VGG16: 56.18MB\n",
      "VGG19: 76.45MB\n",
      "ResNet18: 42.63MB\n",
      "ResNet34: 81.18MB\n",
      "ResNet50: 89.72MB\n",
      "ResNet101: 162.17MB\n",
      "ResNet152: 221.85MB\n"
     ]
    }
   ],
   "source": [
    "from models import select_model\n",
    "from utils import count_parameters\n",
    "\n",
    "models = [\"VGG11\", \"VGG13\", \"VGG16\", \"VGG19\", \"ResNet18\", \"ResNet34\", \"ResNet50\", \"ResNet101\", \"ResNet152\"]\n",
    "\n",
    "for model_name in models:\n",
    "    model = select_model(model_name)\n",
    "    print(f\"{model_name}: {count_parameters(model, True):.2f}MB\")"
   ]
  }
 ],
 "metadata": {
  "kernelspec": {
   "display_name": "base",
   "language": "python",
   "name": "python3"
  },
  "language_info": {
   "codemirror_mode": {
    "name": "ipython",
    "version": 3
   },
   "file_extension": ".py",
   "mimetype": "text/x-python",
   "name": "python",
   "nbconvert_exporter": "python",
   "pygments_lexer": "ipython3",
   "version": "3.10.8"
  }
 },
 "nbformat": 4,
 "nbformat_minor": 2
}
