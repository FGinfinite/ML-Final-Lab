{
 "cells": [
  {
   "cell_type": "code",
   "execution_count": null,
   "metadata": {},
   "outputs": [],
   "source": [
    "from models import select_model\n",
    "from utils import count_parameters\n",
    "\n",
    "models = [\"VGG11\", \"VGG13\", \"VGG16\", \"VGG19\", \"ResNet18\", \"ResNet34\", \"ResNet50\", \"ResNet101\", \"ResNet152\"]\n",
    "\n",
    "for model_name in models:\n",
    "    model = select_model(model_name)\n",
    "    print(f\"{model_name}: {count_parameters(model, True):.2f}MB\")"
   ]
  }
 ],
 "metadata": {
  "language_info": {
   "name": "python"
  }
 },
 "nbformat": 4,
 "nbformat_minor": 2
}
